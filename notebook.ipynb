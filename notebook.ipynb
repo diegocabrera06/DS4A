{
 "cells": [
  {
   "cell_type": "markdown",
   "metadata": {
    "colab_type": "text",
    "id": "2d1U4XaLeT7k"
   },
   "source": [
    "# Notebook proyecto"
   ]
  },
  {
   "cell_type": "code",
   "execution_count": 2,
   "metadata": {},
   "outputs": [],
   "source": [
    "import seaborn                       as sns # A package to make Matplotlib visualizations more aesthetic\n",
    "import matplotlib.pyplot             as plt\n",
    "import plotly.express                as px\n",
    "\n",
    "import dash\n",
    "import dash_bootstrap_components as dbc\n",
    "import dash_core_components as dcc\n",
    "import dash_html_components as html\n",
    "import pandas as pd\n",
    "import plotly.graph_objs as go\n",
    "from dash.dependencies import Input, Output\n",
    "from sklearn import datasets\n",
    "from sklearn.cluster import KMeans\n",
    "from google_trans_new import google_translator\n",
    "\n",
    "from IPython.core.display import display, HTML\n",
    "import os\n",
    "\n",
    "workspace_user = os.getenv('JUPYTERHUB_USER')  # Get DS4A Workspace user name"
   ]
  },
  {
   "cell_type": "code",
   "execution_count": 4,
   "metadata": {},
   "outputs": [
    {
     "data": {
      "text/html": [
       "<h2><a href=\"https://workspace.ds4a.com/user/albertocortes6@gmail.com/proxy/8050/\" target=\"_blank\">Click here to access your Dash App!</a></h2>"
      ],
      "text/plain": [
       "<IPython.core.display.HTML object>"
      ]
     },
     "metadata": {},
     "output_type": "display_data"
    }
   ],
   "source": [
    "dash_app_url = 'http://localhost:8050/'\n",
    "if workspace_user:\n",
    "    dash_app_url = \"https://workspace.ds4a.com/user/albertocortes6@gmail.com/proxy/8050/\"\n",
    "\n",
    "display(\n",
    "    HTML('<h2><a href=\"' + dash_app_url +\n",
    "         '\" target=\"_blank\">Click here to access your Dash App!</a></h2>'))"
   ]
  }
 ],
 "metadata": {
  "c1_recart": "6.9.0-57c20131aabc1dc2a8c675852d80a7da",
  "kernelspec": {
   "display_name": "Python 3",
   "language": "python",
   "name": "python3"
  },
  "language_info": {
   "codemirror_mode": {
    "name": "ipython",
    "version": 3
   },
   "file_extension": ".py",
   "mimetype": "text/x-python",
   "name": "python",
   "nbconvert_exporter": "python",
   "pygments_lexer": "ipython3",
   "version": "3.8.8"
  }
 },
 "nbformat": 4,
 "nbformat_minor": 4
}
